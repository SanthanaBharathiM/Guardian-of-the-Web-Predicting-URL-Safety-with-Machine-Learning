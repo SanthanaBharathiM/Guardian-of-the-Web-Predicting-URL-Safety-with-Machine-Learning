{
 "cells": [
  {
   "cell_type": "code",
   "execution_count": 52,
   "metadata": {
    "_cell_guid": "b1076dfc-b9ad-4769-8c92-a6c4dae69d19",
    "_uuid": "8f2839f25d086af736a60e9eeb907d3b93b6e0e5"
   },
   "outputs": [],
   "source": [
    "import pandas as pd\n",
    "import itertools\n",
    "from sklearn.metrics import classification_report,confusion_matrix, accuracy_score\n",
    "from sklearn.model_selection import train_test_split\n",
    "import pandas as pd\n",
    "import numpy as np\n",
    "import matplotlib.pyplot as plt\n",
    "import xgboost as xgb\n",
    "from lightgbm import LGBMClassifier\n",
    "import os\n",
    "import seaborn as sns\n",
    "from wordcloud import WordCloud"
   ]
  },
  {
   "cell_type": "code",
   "execution_count": 53,
   "metadata": {
    "_cell_guid": "79c7e3d0-c299-4dcb-8224-4455121ee9b0",
    "_uuid": "d629ff2d2480ee46fbb7e2d37f6b5fab8052498a"
   },
   "outputs": [],
   "source": [
    "df=pd.read_csv('fulldataset.csv')"
   ]
  },
  {
   "cell_type": "code",
   "execution_count": 54,
   "metadata": {},
   "outputs": [
    {
     "data": {
      "text/plain": [
       "(1047682, 2)"
      ]
     },
     "execution_count": 54,
     "metadata": {},
     "output_type": "execute_result"
    }
   ],
   "source": [
    "df.shape"
   ]
  },
  {
   "cell_type": "code",
   "execution_count": 55,
   "metadata": {},
   "outputs": [
    {
     "name": "stdout",
     "output_type": "stream",
     "text": [
      "2095364\n",
      "<class 'pandas.core.frame.DataFrame'>\n",
      "RangeIndex: 1047682 entries, 0 to 1047681\n",
      "Columns: 2 entries, URLS to Result\n",
      "dtypes: object(2)\n",
      "memory usage: 16.0+ MB\n",
      "None\n"
     ]
    }
   ],
   "source": [
    "print(df.size)\n",
    "print(df.info(verbose = False))"
   ]
  },
  {
   "cell_type": "code",
   "execution_count": 56,
   "metadata": {},
   "outputs": [
    {
     "data": {
      "text/html": [
       "<div>\n",
       "<style scoped>\n",
       "    .dataframe tbody tr th:only-of-type {\n",
       "        vertical-align: middle;\n",
       "    }\n",
       "\n",
       "    .dataframe tbody tr th {\n",
       "        vertical-align: top;\n",
       "    }\n",
       "\n",
       "    .dataframe thead th {\n",
       "        text-align: right;\n",
       "    }\n",
       "</style>\n",
       "<table border=\"1\" class=\"dataframe\">\n",
       "  <thead>\n",
       "    <tr style=\"text-align: right;\">\n",
       "      <th></th>\n",
       "      <th>URLS</th>\n",
       "      <th>Result</th>\n",
       "    </tr>\n",
       "  </thead>\n",
       "  <tbody>\n",
       "    <tr>\n",
       "      <th>0</th>\n",
       "      <td>http://steamcommunity.com/app/440/discussions/...</td>\n",
       "      <td>Safe</td>\n",
       "    </tr>\n",
       "    <tr>\n",
       "      <th>1</th>\n",
       "      <td>http://genius.com/2990078/Us-general-services-...</td>\n",
       "      <td>Safe</td>\n",
       "    </tr>\n",
       "    <tr>\n",
       "      <th>2</th>\n",
       "      <td>https://sports.yahoo.com/arizona-governor-slam...</td>\n",
       "      <td>Safe</td>\n",
       "    </tr>\n",
       "    <tr>\n",
       "      <th>3</th>\n",
       "      <td>https://www.mascus.es/</td>\n",
       "      <td>Safe</td>\n",
       "    </tr>\n",
       "    <tr>\n",
       "      <th>4</th>\n",
       "      <td>http://superuser.com/questions/830405/windows-...</td>\n",
       "      <td>Safe</td>\n",
       "    </tr>\n",
       "    <tr>\n",
       "      <th>5</th>\n",
       "      <td>https://www.instarem.com/en-au/</td>\n",
       "      <td>Safe</td>\n",
       "    </tr>\n",
       "    <tr>\n",
       "      <th>6</th>\n",
       "      <td>https://www.nordstromrack.com/shop/Women/Shoes</td>\n",
       "      <td>Safe</td>\n",
       "    </tr>\n",
       "    <tr>\n",
       "      <th>7</th>\n",
       "      <td>https://www.turkaramamotoru.com/en/united-nati...</td>\n",
       "      <td>Safe</td>\n",
       "    </tr>\n",
       "    <tr>\n",
       "      <th>8</th>\n",
       "      <td>https://www.span.com/</td>\n",
       "      <td>Safe</td>\n",
       "    </tr>\n",
       "    <tr>\n",
       "      <th>9</th>\n",
       "      <td>https://www.leicester.gov.uk/</td>\n",
       "      <td>Safe</td>\n",
       "    </tr>\n",
       "  </tbody>\n",
       "</table>\n",
       "</div>"
      ],
      "text/plain": [
       "                                                URLS Result\n",
       "0  http://steamcommunity.com/app/440/discussions/...   Safe\n",
       "1  http://genius.com/2990078/Us-general-services-...   Safe\n",
       "2  https://sports.yahoo.com/arizona-governor-slam...   Safe\n",
       "3                             https://www.mascus.es/   Safe\n",
       "4  http://superuser.com/questions/830405/windows-...   Safe\n",
       "5                    https://www.instarem.com/en-au/   Safe\n",
       "6     https://www.nordstromrack.com/shop/Women/Shoes   Safe\n",
       "7  https://www.turkaramamotoru.com/en/united-nati...   Safe\n",
       "8                              https://www.span.com/   Safe\n",
       "9                      https://www.leicester.gov.uk/   Safe"
      ]
     },
     "execution_count": 56,
     "metadata": {},
     "output_type": "execute_result"
    }
   ],
   "source": [
    "df.head(10)"
   ]
  },
  {
   "cell_type": "code",
   "execution_count": 57,
   "metadata": {},
   "outputs": [
    {
     "name": "stdout",
     "output_type": "stream",
     "text": [
      "The size of the file is: 72.08396625518799 MB\n",
      "The size of the DataFrame in memory is: 15.98648452758789 MB\n"
     ]
    }
   ],
   "source": [
    "import os\n",
    "import pandas as pd\n",
    "\n",
    "# specify the file path\n",
    "file_path ='fulldataset.csv'\n",
    "\n",
    "# get the size of the file in bytes\n",
    "file_size_in_bytes = os.path.getsize(file_path)\n",
    "\n",
    "# convert the size to MB\n",
    "file_size_in_MB = file_size_in_bytes / (1024 * 1024)\n",
    "\n",
    "print(f'The size of the file is: {file_size_in_MB} MB')\n",
    "\n",
    "# read the file into a pandas DataFrame\n",
    "df = pd.read_csv(file_path)\n",
    "\n",
    "# get the size of the DataFrame in memory\n",
    "df_size_in_bytes = df.memory_usage().sum()\n",
    "\n",
    "# convert the size to MB\n",
    "df_size_in_MB = df_size_in_bytes / (1024 * 1024)\n",
    "\n",
    "print(f'The size of the DataFrame in memory is: {df_size_in_MB} MB')"
   ]
  },
  {
   "cell_type": "code",
   "execution_count": 58,
   "metadata": {
    "scrolled": true
   },
   "outputs": [
    {
     "name": "stdout",
     "output_type": "stream",
     "text": [
      "1047682\n"
     ]
    }
   ],
   "source": [
    "print(len(df.Result))"
   ]
  },
  {
   "cell_type": "code",
   "execution_count": 59,
   "metadata": {},
   "outputs": [],
   "source": [
    "df=df.rename(columns={\"URLS\":'url','Result':'type'})"
   ]
  },
  {
   "cell_type": "code",
   "execution_count": 60,
   "metadata": {},
   "outputs": [
    {
     "data": {
      "text/plain": [
       "type\n",
       "Safe      559308\n",
       "Unsafe    488374\n",
       "Name: count, dtype: int64"
      ]
     },
     "execution_count": 60,
     "metadata": {},
     "output_type": "execute_result"
    }
   ],
   "source": [
    "df.type.value_counts()"
   ]
  },
  {
   "cell_type": "markdown",
   "metadata": {},
   "source": [
    "## Feature Engineering"
   ]
  },
  {
   "cell_type": "code",
   "execution_count": 61,
   "metadata": {},
   "outputs": [],
   "source": [
    "import re\n",
    "\n",
    "def having_ip_address(url):\n",
    "    match = re.search(\n",
    "        r'(([01]?\\d\\d?|2[0-4]\\d|25[0-5])\\.([01]?\\d\\d?|2[0-4]\\d|25[0-5])\\.([01]?\\d\\d?|2[0-4]\\d|25[0-5])\\.)'\n",
    "        r'([01]?\\d\\d?|2[0-4]\\d|25[0-5])\\/|'  # IPv4\n",
    "        r'((0x[0-9a-fA-F]{1,2})\\.(0x[0-9a-fA-F]{1,2})\\.(0x[0-9a-fA-F]{1,2})\\.(0x[0-9a-fA-F]{1,2})\\/)'  # IPv4 in hexadecimal\n",
    "        r'(?:[a-fA-F0-9]{1,4}:){7}[a-fA-F0-9]{1,4}', url)  # IPv6\n",
    "    if match:\n",
    "        return 1\n",
    "    else:\n",
    "        return 0\n",
    "\n",
    "df['use_of_ip'] = df['url'].apply(lambda i: having_ip_address(i))\n",
    "\n",
    "from urllib.parse import urlparse\n",
    "\n",
    "def abnormal_url(url):\n",
    "    hostname = urlparse(url).hostname\n",
    "    hostname = str(hostname)\n",
    "    match = re.search(re.escape(hostname), url)  # Escaping the hostname\n",
    "    if match:\n",
    "        return 1\n",
    "    else:\n",
    "        return 0\n",
    "\n",
    "df['abnormal_url'] = df['url'].apply(lambda i: abnormal_url(i))\n"
   ]
  },
  {
   "cell_type": "code",
   "execution_count": 62,
   "metadata": {},
   "outputs": [
    {
     "data": {
      "text/plain": [
       "38773     http://20.151.68.178/Finance/tang/questions.html\n",
       "38774                          http://njolfs.hyperphp.com/\n",
       "38775    http://lz5.1ee.myftpupload.com/mvc/22785dd2577...\n",
       "38776        http://colibanboxes.com.au/arfrap/allo/49b19/\n",
       "Name: url, dtype: object"
      ]
     },
     "execution_count": 62,
     "metadata": {},
     "output_type": "execute_result"
    }
   ],
   "source": [
    "df['url'].iloc[38773:38777]"
   ]
  },
  {
   "cell_type": "code",
   "execution_count": 63,
   "metadata": {},
   "outputs": [],
   "source": [
    "from googlesearch import search"
   ]
  },
  {
   "cell_type": "code",
   "execution_count": 64,
   "metadata": {},
   "outputs": [],
   "source": [
    "def google_index(url):\n",
    "    site = search(url, 5)\n",
    "    return 1 if site else 0\n",
    "df['google_index'] = df['url'].apply(lambda i: google_index(i))"
   ]
  },
  {
   "cell_type": "code",
   "execution_count": 65,
   "metadata": {},
   "outputs": [
    {
     "data": {
      "text/html": [
       "<div>\n",
       "<style scoped>\n",
       "    .dataframe tbody tr th:only-of-type {\n",
       "        vertical-align: middle;\n",
       "    }\n",
       "\n",
       "    .dataframe tbody tr th {\n",
       "        vertical-align: top;\n",
       "    }\n",
       "\n",
       "    .dataframe thead th {\n",
       "        text-align: right;\n",
       "    }\n",
       "</style>\n",
       "<table border=\"1\" class=\"dataframe\">\n",
       "  <thead>\n",
       "    <tr style=\"text-align: right;\">\n",
       "      <th></th>\n",
       "      <th>url</th>\n",
       "      <th>type</th>\n",
       "      <th>use_of_ip</th>\n",
       "      <th>abnormal_url</th>\n",
       "      <th>google_index</th>\n",
       "      <th>count.</th>\n",
       "    </tr>\n",
       "  </thead>\n",
       "  <tbody>\n",
       "    <tr>\n",
       "      <th>0</th>\n",
       "      <td>http://steamcommunity.com/app/440/discussions/...</td>\n",
       "      <td>Safe</td>\n",
       "      <td>0</td>\n",
       "      <td>1</td>\n",
       "      <td>1</td>\n",
       "      <td>2</td>\n",
       "    </tr>\n",
       "    <tr>\n",
       "      <th>1</th>\n",
       "      <td>http://genius.com/2990078/Us-general-services-...</td>\n",
       "      <td>Safe</td>\n",
       "      <td>0</td>\n",
       "      <td>1</td>\n",
       "      <td>1</td>\n",
       "      <td>1</td>\n",
       "    </tr>\n",
       "    <tr>\n",
       "      <th>2</th>\n",
       "      <td>https://sports.yahoo.com/arizona-governor-slam...</td>\n",
       "      <td>Safe</td>\n",
       "      <td>0</td>\n",
       "      <td>1</td>\n",
       "      <td>1</td>\n",
       "      <td>3</td>\n",
       "    </tr>\n",
       "    <tr>\n",
       "      <th>3</th>\n",
       "      <td>https://www.mascus.es/</td>\n",
       "      <td>Safe</td>\n",
       "      <td>0</td>\n",
       "      <td>1</td>\n",
       "      <td>1</td>\n",
       "      <td>2</td>\n",
       "    </tr>\n",
       "    <tr>\n",
       "      <th>4</th>\n",
       "      <td>http://superuser.com/questions/830405/windows-...</td>\n",
       "      <td>Safe</td>\n",
       "      <td>0</td>\n",
       "      <td>1</td>\n",
       "      <td>1</td>\n",
       "      <td>1</td>\n",
       "    </tr>\n",
       "  </tbody>\n",
       "</table>\n",
       "</div>"
      ],
      "text/plain": [
       "                                                 url  type  use_of_ip  \\\n",
       "0  http://steamcommunity.com/app/440/discussions/...  Safe          0   \n",
       "1  http://genius.com/2990078/Us-general-services-...  Safe          0   \n",
       "2  https://sports.yahoo.com/arizona-governor-slam...  Safe          0   \n",
       "3                             https://www.mascus.es/  Safe          0   \n",
       "4  http://superuser.com/questions/830405/windows-...  Safe          0   \n",
       "\n",
       "   abnormal_url  google_index  count.  \n",
       "0             1             1       2  \n",
       "1             1             1       1  \n",
       "2             1             1       3  \n",
       "3             1             1       2  \n",
       "4             1             1       1  "
      ]
     },
     "execution_count": 65,
     "metadata": {},
     "output_type": "execute_result"
    }
   ],
   "source": [
    "def count_dot(url):\n",
    "    count_dot = url.count('.')\n",
    "    return count_dot\n",
    "\n",
    "df['count.'] = df['url'].apply(lambda i: count_dot(i))\n",
    "df.head()"
   ]
  },
  {
   "cell_type": "code",
   "execution_count": 66,
   "metadata": {},
   "outputs": [],
   "source": [
    "def count_www(url):\n",
    "    url.count('www')\n",
    "    return url.count('www')\n",
    "\n",
    "df['count-www'] = df['url'].apply(lambda i: count_www(i))\n",
    "\n",
    "def count_atrate(url):\n",
    "     \n",
    "    return url.count('@')\n",
    "\n",
    "df['count@'] = df['url'].apply(lambda i: count_atrate(i))\n",
    "\n",
    "\n",
    "def no_of_dir(url):\n",
    "    urldir = urlparse(url).path\n",
    "    return urldir.count('/')\n",
    "\n",
    "df['count_dir'] = df['url'].apply(lambda i: no_of_dir(i))\n",
    "\n",
    "def no_of_embed(url):\n",
    "    urldir = urlparse(url).path\n",
    "    return urldir.count('//')\n",
    "\n",
    "df['count_embed_domian'] = df['url'].apply(lambda i: no_of_embed(i))\n",
    "\n",
    "\n",
    "def shortening_service(url):\n",
    "    match = re.search('bit\\.ly|goo\\.gl|shorte\\.st|go2l\\.ink|x\\.co|ow\\.ly|t\\.co|tinyurl|tr\\.im|is\\.gd|cli\\.gs|'\n",
    "                      'yfrog\\.com|migre\\.me|ff\\.im|tiny\\.cc|url4\\.eu|twit\\.ac|su\\.pr|twurl\\.nl|snipurl\\.com|'\n",
    "                      'short\\.to|BudURL\\.com|ping\\.fm|post\\.ly|Just\\.as|bkite\\.com|snipr\\.com|fic\\.kr|loopt\\.us|'\n",
    "                      'doiop\\.com|short\\.ie|kl\\.am|wp\\.me|rubyurl\\.com|om\\.ly|to\\.ly|bit\\.do|t\\.co|lnkd\\.in|'\n",
    "                      'db\\.tt|qr\\.ae|adf\\.ly|goo\\.gl|bitly\\.com|cur\\.lv|tinyurl\\.com|ow\\.ly|bit\\.ly|ity\\.im|'\n",
    "                      'q\\.gs|is\\.gd|po\\.st|bc\\.vc|twitthis\\.com|u\\.to|j\\.mp|buzurl\\.com|cutt\\.us|u\\.bb|yourls\\.org|'\n",
    "                      'x\\.co|prettylinkpro\\.com|scrnch\\.me|filoops\\.info|vzturl\\.com|qr\\.net|1url\\.com|tweez\\.me|v\\.gd|'\n",
    "                      'tr\\.im|link\\.zip\\.net',\n",
    "                      url)\n",
    "    if match:\n",
    "        return 1\n",
    "    else:\n",
    "        return 0\n",
    "    \n",
    "    \n",
    "df['short_url'] = df['url'].apply(lambda i: shortening_service(i))"
   ]
  },
  {
   "cell_type": "code",
   "execution_count": 67,
   "metadata": {},
   "outputs": [],
   "source": [
    "def count_https(url):\n",
    "    return url.count('https')\n",
    "\n",
    "df['count-https'] = df['url'].apply(lambda i : count_https(i))\n",
    "\n",
    "def count_http(url):\n",
    "    return url.count('http')\n",
    "\n",
    "df['count-http'] = df['url'].apply(lambda i : count_http(i))"
   ]
  },
  {
   "cell_type": "code",
   "execution_count": 68,
   "metadata": {},
   "outputs": [
    {
     "data": {
      "text/html": [
       "<div>\n",
       "<style scoped>\n",
       "    .dataframe tbody tr th:only-of-type {\n",
       "        vertical-align: middle;\n",
       "    }\n",
       "\n",
       "    .dataframe tbody tr th {\n",
       "        vertical-align: top;\n",
       "    }\n",
       "\n",
       "    .dataframe thead th {\n",
       "        text-align: right;\n",
       "    }\n",
       "</style>\n",
       "<table border=\"1\" class=\"dataframe\">\n",
       "  <thead>\n",
       "    <tr style=\"text-align: right;\">\n",
       "      <th></th>\n",
       "      <th>url</th>\n",
       "      <th>type</th>\n",
       "      <th>use_of_ip</th>\n",
       "      <th>abnormal_url</th>\n",
       "      <th>google_index</th>\n",
       "      <th>count.</th>\n",
       "      <th>count-www</th>\n",
       "      <th>count@</th>\n",
       "      <th>count_dir</th>\n",
       "      <th>count_embed_domian</th>\n",
       "      <th>...</th>\n",
       "      <th>count-http</th>\n",
       "      <th>count%</th>\n",
       "      <th>count?</th>\n",
       "      <th>count-</th>\n",
       "      <th>count=</th>\n",
       "      <th>url_length</th>\n",
       "      <th>hostname_length</th>\n",
       "      <th>sus_url</th>\n",
       "      <th>count-digits</th>\n",
       "      <th>count-letters</th>\n",
       "    </tr>\n",
       "  </thead>\n",
       "  <tbody>\n",
       "    <tr>\n",
       "      <th>0</th>\n",
       "      <td>http://steamcommunity.com/app/440/discussions/...</td>\n",
       "      <td>Safe</td>\n",
       "      <td>0</td>\n",
       "      <td>1</td>\n",
       "      <td>1</td>\n",
       "      <td>2</td>\n",
       "      <td>0</td>\n",
       "      <td>0</td>\n",
       "      <td>10</td>\n",
       "      <td>1</td>\n",
       "      <td>...</td>\n",
       "      <td>2</td>\n",
       "      <td>2</td>\n",
       "      <td>0</td>\n",
       "      <td>0</td>\n",
       "      <td>0</td>\n",
       "      <td>110</td>\n",
       "      <td>18</td>\n",
       "      <td>0</td>\n",
       "      <td>26</td>\n",
       "      <td>66</td>\n",
       "    </tr>\n",
       "    <tr>\n",
       "      <th>1</th>\n",
       "      <td>http://genius.com/2990078/Us-general-services-...</td>\n",
       "      <td>Safe</td>\n",
       "      <td>0</td>\n",
       "      <td>1</td>\n",
       "      <td>1</td>\n",
       "      <td>1</td>\n",
       "      <td>0</td>\n",
       "      <td>0</td>\n",
       "      <td>3</td>\n",
       "      <td>0</td>\n",
       "      <td>...</td>\n",
       "      <td>1</td>\n",
       "      <td>0</td>\n",
       "      <td>0</td>\n",
       "      <td>11</td>\n",
       "      <td>0</td>\n",
       "      <td>121</td>\n",
       "      <td>10</td>\n",
       "      <td>1</td>\n",
       "      <td>12</td>\n",
       "      <td>91</td>\n",
       "    </tr>\n",
       "    <tr>\n",
       "      <th>2</th>\n",
       "      <td>https://sports.yahoo.com/arizona-governor-slam...</td>\n",
       "      <td>Safe</td>\n",
       "      <td>0</td>\n",
       "      <td>1</td>\n",
       "      <td>1</td>\n",
       "      <td>3</td>\n",
       "      <td>0</td>\n",
       "      <td>0</td>\n",
       "      <td>1</td>\n",
       "      <td>0</td>\n",
       "      <td>...</td>\n",
       "      <td>1</td>\n",
       "      <td>0</td>\n",
       "      <td>1</td>\n",
       "      <td>19</td>\n",
       "      <td>3</td>\n",
       "      <td>387</td>\n",
       "      <td>16</td>\n",
       "      <td>0</td>\n",
       "      <td>38</td>\n",
       "      <td>312</td>\n",
       "    </tr>\n",
       "    <tr>\n",
       "      <th>3</th>\n",
       "      <td>https://www.mascus.es/</td>\n",
       "      <td>Safe</td>\n",
       "      <td>0</td>\n",
       "      <td>1</td>\n",
       "      <td>1</td>\n",
       "      <td>2</td>\n",
       "      <td>1</td>\n",
       "      <td>0</td>\n",
       "      <td>1</td>\n",
       "      <td>0</td>\n",
       "      <td>...</td>\n",
       "      <td>1</td>\n",
       "      <td>0</td>\n",
       "      <td>0</td>\n",
       "      <td>0</td>\n",
       "      <td>0</td>\n",
       "      <td>22</td>\n",
       "      <td>13</td>\n",
       "      <td>0</td>\n",
       "      <td>0</td>\n",
       "      <td>16</td>\n",
       "    </tr>\n",
       "    <tr>\n",
       "      <th>4</th>\n",
       "      <td>http://superuser.com/questions/830405/windows-...</td>\n",
       "      <td>Safe</td>\n",
       "      <td>0</td>\n",
       "      <td>1</td>\n",
       "      <td>1</td>\n",
       "      <td>1</td>\n",
       "      <td>0</td>\n",
       "      <td>0</td>\n",
       "      <td>3</td>\n",
       "      <td>0</td>\n",
       "      <td>...</td>\n",
       "      <td>1</td>\n",
       "      <td>0</td>\n",
       "      <td>0</td>\n",
       "      <td>11</td>\n",
       "      <td>0</td>\n",
       "      <td>100</td>\n",
       "      <td>13</td>\n",
       "      <td>0</td>\n",
       "      <td>7</td>\n",
       "      <td>75</td>\n",
       "    </tr>\n",
       "  </tbody>\n",
       "</table>\n",
       "<p>5 rows × 22 columns</p>\n",
       "</div>"
      ],
      "text/plain": [
       "                                                 url  type  use_of_ip  \\\n",
       "0  http://steamcommunity.com/app/440/discussions/...  Safe          0   \n",
       "1  http://genius.com/2990078/Us-general-services-...  Safe          0   \n",
       "2  https://sports.yahoo.com/arizona-governor-slam...  Safe          0   \n",
       "3                             https://www.mascus.es/  Safe          0   \n",
       "4  http://superuser.com/questions/830405/windows-...  Safe          0   \n",
       "\n",
       "   abnormal_url  google_index  count.  count-www  count@  count_dir  \\\n",
       "0             1             1       2          0       0         10   \n",
       "1             1             1       1          0       0          3   \n",
       "2             1             1       3          0       0          1   \n",
       "3             1             1       2          1       0          1   \n",
       "4             1             1       1          0       0          3   \n",
       "\n",
       "   count_embed_domian  ...  count-http  count%  count?  count-  count=  \\\n",
       "0                   1  ...           2       2       0       0       0   \n",
       "1                   0  ...           1       0       0      11       0   \n",
       "2                   0  ...           1       0       1      19       3   \n",
       "3                   0  ...           1       0       0       0       0   \n",
       "4                   0  ...           1       0       0      11       0   \n",
       "\n",
       "   url_length  hostname_length  sus_url  count-digits  count-letters  \n",
       "0         110               18        0            26             66  \n",
       "1         121               10        1            12             91  \n",
       "2         387               16        0            38            312  \n",
       "3          22               13        0             0             16  \n",
       "4         100               13        0             7             75  \n",
       "\n",
       "[5 rows x 22 columns]"
      ]
     },
     "execution_count": 68,
     "metadata": {},
     "output_type": "execute_result"
    }
   ],
   "source": [
    "def count_per(url):\n",
    "    return url.count('%')\n",
    "\n",
    "df['count%'] = df['url'].apply(lambda i : count_per(i))\n",
    "\n",
    "def count_ques(url):\n",
    "    return url.count('?')\n",
    "\n",
    "df['count?'] = df['url'].apply(lambda i: count_ques(i))\n",
    "\n",
    "def count_hyphen(url):\n",
    "    return url.count('-')\n",
    "\n",
    "df['count-'] = df['url'].apply(lambda i: count_hyphen(i))\n",
    "\n",
    "def count_equal(url):\n",
    "    return url.count('=')\n",
    "\n",
    "df['count='] = df['url'].apply(lambda i: count_equal(i))\n",
    "\n",
    "def url_length(url):\n",
    "    return len(str(url))\n",
    "\n",
    "\n",
    "#Length of URL\n",
    "df['url_length'] = df['url'].apply(lambda i: url_length(i))\n",
    "#Hostname Length\n",
    "\n",
    "def hostname_length(url):\n",
    "    return len(urlparse(url).netloc)\n",
    "\n",
    "df['hostname_length'] = df['url'].apply(lambda i: hostname_length(i))\n",
    "\n",
    "df.head()\n",
    "\n",
    "def suspicious_words(url):\n",
    "    match = re.search('PayPal|login|signin|bank|account|update|free|lucky|service|bonus|ebayisapi|webscr',\n",
    "                      url)\n",
    "    if match:\n",
    "        return 1\n",
    "    else:\n",
    "        return 0\n",
    "df['sus_url'] = df['url'].apply(lambda i: suspicious_words(i))\n",
    "\n",
    "\n",
    "def digit_count(url):\n",
    "    digits = 0\n",
    "    for i in url:\n",
    "        if i.isnumeric():\n",
    "            digits = digits + 1\n",
    "    return digits\n",
    "\n",
    "\n",
    "df['count-digits']= df['url'].apply(lambda i: digit_count(i))\n",
    "\n",
    "\n",
    "def letter_count(url):\n",
    "    letters = 0\n",
    "    for i in url:\n",
    "        if i.isalpha():\n",
    "            letters = letters + 1\n",
    "    return letters\n",
    "\n",
    "\n",
    "df['count-letters']= df['url'].apply(lambda i: letter_count(i))\n",
    "\n",
    "df.head()"
   ]
  },
  {
   "cell_type": "code",
   "execution_count": 69,
   "metadata": {},
   "outputs": [],
   "source": [
    "#!pip install tld"
   ]
  },
  {
   "cell_type": "code",
   "execution_count": 70,
   "metadata": {},
   "outputs": [],
   "source": [
    "#Importing dependencies\n",
    "from urllib.parse import urlparse\n",
    "from tld import get_tld\n",
    "import os.path\n",
    "\n",
    "#First Directory Length\n",
    "def fd_length(url):\n",
    "    urlpath= urlparse(url).path\n",
    "    try:\n",
    "        return len(urlpath.split('/')[1])\n",
    "    except:\n",
    "        return 0\n",
    "\n",
    "df['fd_length'] = df['url'].apply(lambda i: fd_length(i))\n",
    "\n",
    "#Length of Top Level Domain\n",
    "df['tld'] = df['url'].apply(lambda i: get_tld(i,fail_silently=True))\n",
    "\n",
    "\n",
    "def tld_length(tld):\n",
    "    try:\n",
    "        return len(tld)\n",
    "    except:\n",
    "        return -1\n",
    "\n",
    "df['tld_length'] = df['tld'].apply(lambda i: tld_length(i))"
   ]
  },
  {
   "cell_type": "code",
   "execution_count": 71,
   "metadata": {},
   "outputs": [],
   "source": [
    "df = df.drop(\"tld\",axis=1)"
   ]
  },
  {
   "cell_type": "code",
   "execution_count": 72,
   "metadata": {},
   "outputs": [
    {
     "data": {
      "text/plain": [
       "Index(['url', 'type', 'use_of_ip', 'abnormal_url', 'google_index', 'count.',\n",
       "       'count-www', 'count@', 'count_dir', 'count_embed_domian', 'short_url',\n",
       "       'count-https', 'count-http', 'count%', 'count?', 'count-', 'count=',\n",
       "       'url_length', 'hostname_length', 'sus_url', 'count-digits',\n",
       "       'count-letters', 'fd_length', 'tld_length'],\n",
       "      dtype='object')"
      ]
     },
     "execution_count": 72,
     "metadata": {},
     "output_type": "execute_result"
    }
   ],
   "source": [
    "df.columns"
   ]
  },
  {
   "cell_type": "code",
   "execution_count": 73,
   "metadata": {},
   "outputs": [
    {
     "data": {
      "text/plain": [
       "type\n",
       "Safe      559308\n",
       "Unsafe    488374\n",
       "Name: count, dtype: int64"
      ]
     },
     "execution_count": 73,
     "metadata": {},
     "output_type": "execute_result"
    }
   ],
   "source": [
    "df['type'].value_counts()"
   ]
  },
  {
   "cell_type": "markdown",
   "metadata": {},
   "source": [
    "## Target Encoding"
   ]
  },
  {
   "cell_type": "code",
   "execution_count": 78,
   "metadata": {},
   "outputs": [
    {
     "data": {
      "text/plain": [
       "type_code\n",
       "0    559308\n",
       "1    488374\n",
       "Name: count, dtype: int64"
      ]
     },
     "execution_count": 78,
     "metadata": {},
     "output_type": "execute_result"
    }
   ],
   "source": [
    "from sklearn.preprocessing import LabelEncoder\n",
    "\n",
    "lb_make = LabelEncoder()\n",
    "df[\"type_code\"] = lb_make.fit_transform(df[\"type\"])\n",
    "df[\"type_code\"].value_counts()\n",
    "\n"
   ]
  },
  {
   "cell_type": "markdown",
   "metadata": {},
   "source": [
    "## Creation of Feature & Target "
   ]
  },
  {
   "cell_type": "code",
   "execution_count": 79,
   "metadata": {},
   "outputs": [],
   "source": [
    "#Predictor Variables\n",
    "# filtering out google_index as it has only 1 value\n",
    "X = df[['use_of_ip','abnormal_url', 'count.', 'count-www', 'count@',\n",
    "       'count_dir', 'count_embed_domian', 'short_url', 'count-https',\n",
    "       'count-http', 'count%', 'count?', 'count-', 'count=', 'url_length',\n",
    "       'hostname_length', 'sus_url', 'fd_length', 'tld_length', 'count-digits',\n",
    "       'count-letters']]\n",
    "\n",
    "#Target Variable\n",
    "y = df['type_code']"
   ]
  },
  {
   "cell_type": "code",
   "execution_count": 80,
   "metadata": {},
   "outputs": [
    {
     "data": {
      "text/html": [
       "<div>\n",
       "<style scoped>\n",
       "    .dataframe tbody tr th:only-of-type {\n",
       "        vertical-align: middle;\n",
       "    }\n",
       "\n",
       "    .dataframe tbody tr th {\n",
       "        vertical-align: top;\n",
       "    }\n",
       "\n",
       "    .dataframe thead th {\n",
       "        text-align: right;\n",
       "    }\n",
       "</style>\n",
       "<table border=\"1\" class=\"dataframe\">\n",
       "  <thead>\n",
       "    <tr style=\"text-align: right;\">\n",
       "      <th></th>\n",
       "      <th>use_of_ip</th>\n",
       "      <th>abnormal_url</th>\n",
       "      <th>count.</th>\n",
       "      <th>count-www</th>\n",
       "      <th>count@</th>\n",
       "      <th>count_dir</th>\n",
       "      <th>count_embed_domian</th>\n",
       "      <th>short_url</th>\n",
       "      <th>count-https</th>\n",
       "      <th>count-http</th>\n",
       "      <th>...</th>\n",
       "      <th>count?</th>\n",
       "      <th>count-</th>\n",
       "      <th>count=</th>\n",
       "      <th>url_length</th>\n",
       "      <th>hostname_length</th>\n",
       "      <th>sus_url</th>\n",
       "      <th>fd_length</th>\n",
       "      <th>tld_length</th>\n",
       "      <th>count-digits</th>\n",
       "      <th>count-letters</th>\n",
       "    </tr>\n",
       "  </thead>\n",
       "  <tbody>\n",
       "    <tr>\n",
       "      <th>0</th>\n",
       "      <td>0</td>\n",
       "      <td>1</td>\n",
       "      <td>2</td>\n",
       "      <td>0</td>\n",
       "      <td>0</td>\n",
       "      <td>10</td>\n",
       "      <td>1</td>\n",
       "      <td>0</td>\n",
       "      <td>0</td>\n",
       "      <td>2</td>\n",
       "      <td>...</td>\n",
       "      <td>0</td>\n",
       "      <td>0</td>\n",
       "      <td>0</td>\n",
       "      <td>110</td>\n",
       "      <td>18</td>\n",
       "      <td>0</td>\n",
       "      <td>3</td>\n",
       "      <td>3</td>\n",
       "      <td>26</td>\n",
       "      <td>66</td>\n",
       "    </tr>\n",
       "    <tr>\n",
       "      <th>1</th>\n",
       "      <td>0</td>\n",
       "      <td>1</td>\n",
       "      <td>1</td>\n",
       "      <td>0</td>\n",
       "      <td>0</td>\n",
       "      <td>3</td>\n",
       "      <td>0</td>\n",
       "      <td>0</td>\n",
       "      <td>0</td>\n",
       "      <td>1</td>\n",
       "      <td>...</td>\n",
       "      <td>0</td>\n",
       "      <td>11</td>\n",
       "      <td>0</td>\n",
       "      <td>121</td>\n",
       "      <td>10</td>\n",
       "      <td>1</td>\n",
       "      <td>7</td>\n",
       "      <td>3</td>\n",
       "      <td>12</td>\n",
       "      <td>91</td>\n",
       "    </tr>\n",
       "    <tr>\n",
       "      <th>2</th>\n",
       "      <td>0</td>\n",
       "      <td>1</td>\n",
       "      <td>3</td>\n",
       "      <td>0</td>\n",
       "      <td>0</td>\n",
       "      <td>1</td>\n",
       "      <td>0</td>\n",
       "      <td>0</td>\n",
       "      <td>1</td>\n",
       "      <td>1</td>\n",
       "      <td>...</td>\n",
       "      <td>1</td>\n",
       "      <td>19</td>\n",
       "      <td>3</td>\n",
       "      <td>387</td>\n",
       "      <td>16</td>\n",
       "      <td>0</td>\n",
       "      <td>108</td>\n",
       "      <td>3</td>\n",
       "      <td>38</td>\n",
       "      <td>312</td>\n",
       "    </tr>\n",
       "    <tr>\n",
       "      <th>3</th>\n",
       "      <td>0</td>\n",
       "      <td>1</td>\n",
       "      <td>2</td>\n",
       "      <td>1</td>\n",
       "      <td>0</td>\n",
       "      <td>1</td>\n",
       "      <td>0</td>\n",
       "      <td>0</td>\n",
       "      <td>1</td>\n",
       "      <td>1</td>\n",
       "      <td>...</td>\n",
       "      <td>0</td>\n",
       "      <td>0</td>\n",
       "      <td>0</td>\n",
       "      <td>22</td>\n",
       "      <td>13</td>\n",
       "      <td>0</td>\n",
       "      <td>0</td>\n",
       "      <td>2</td>\n",
       "      <td>0</td>\n",
       "      <td>16</td>\n",
       "    </tr>\n",
       "    <tr>\n",
       "      <th>4</th>\n",
       "      <td>0</td>\n",
       "      <td>1</td>\n",
       "      <td>1</td>\n",
       "      <td>0</td>\n",
       "      <td>0</td>\n",
       "      <td>3</td>\n",
       "      <td>0</td>\n",
       "      <td>0</td>\n",
       "      <td>0</td>\n",
       "      <td>1</td>\n",
       "      <td>...</td>\n",
       "      <td>0</td>\n",
       "      <td>11</td>\n",
       "      <td>0</td>\n",
       "      <td>100</td>\n",
       "      <td>13</td>\n",
       "      <td>0</td>\n",
       "      <td>9</td>\n",
       "      <td>3</td>\n",
       "      <td>7</td>\n",
       "      <td>75</td>\n",
       "    </tr>\n",
       "  </tbody>\n",
       "</table>\n",
       "<p>5 rows × 21 columns</p>\n",
       "</div>"
      ],
      "text/plain": [
       "   use_of_ip  abnormal_url  count.  count-www  count@  count_dir  \\\n",
       "0          0             1       2          0       0         10   \n",
       "1          0             1       1          0       0          3   \n",
       "2          0             1       3          0       0          1   \n",
       "3          0             1       2          1       0          1   \n",
       "4          0             1       1          0       0          3   \n",
       "\n",
       "   count_embed_domian  short_url  count-https  count-http  ...  count?  \\\n",
       "0                   1          0            0           2  ...       0   \n",
       "1                   0          0            0           1  ...       0   \n",
       "2                   0          0            1           1  ...       1   \n",
       "3                   0          0            1           1  ...       0   \n",
       "4                   0          0            0           1  ...       0   \n",
       "\n",
       "   count-  count=  url_length  hostname_length  sus_url  fd_length  \\\n",
       "0       0       0         110               18        0          3   \n",
       "1      11       0         121               10        1          7   \n",
       "2      19       3         387               16        0        108   \n",
       "3       0       0          22               13        0          0   \n",
       "4      11       0         100               13        0          9   \n",
       "\n",
       "   tld_length  count-digits  count-letters  \n",
       "0           3            26             66  \n",
       "1           3            12             91  \n",
       "2           3            38            312  \n",
       "3           2             0             16  \n",
       "4           3             7             75  \n",
       "\n",
       "[5 rows x 21 columns]"
      ]
     },
     "execution_count": 80,
     "metadata": {},
     "output_type": "execute_result"
    }
   ],
   "source": [
    "X.head()"
   ]
  },
  {
   "cell_type": "code",
   "execution_count": 81,
   "metadata": {},
   "outputs": [
    {
     "data": {
      "text/plain": [
       "Index(['use_of_ip', 'abnormal_url', 'count.', 'count-www', 'count@',\n",
       "       'count_dir', 'count_embed_domian', 'short_url', 'count-https',\n",
       "       'count-http', 'count%', 'count?', 'count-', 'count=', 'url_length',\n",
       "       'hostname_length', 'sus_url', 'fd_length', 'tld_length', 'count-digits',\n",
       "       'count-letters'],\n",
       "      dtype='object')"
      ]
     },
     "execution_count": 81,
     "metadata": {},
     "output_type": "execute_result"
    }
   ],
   "source": [
    "X.columns"
   ]
  },
  {
   "cell_type": "markdown",
   "metadata": {},
   "source": [
    "## Train Test Split"
   ]
  },
  {
   "cell_type": "code",
   "execution_count": 82,
   "metadata": {},
   "outputs": [],
   "source": [
    "X_train, X_test, y_train, y_test = train_test_split(X, y, stratify=y, test_size=0.2,shuffle=True, random_state=5)"
   ]
  },
  {
   "cell_type": "markdown",
   "metadata": {},
   "source": [
    "# Model Building "
   ]
  },
  {
   "cell_type": "markdown",
   "metadata": {},
   "source": [
    "## 1. Random Forest Classifier"
   ]
  },
  {
   "cell_type": "code",
   "execution_count": 88,
   "metadata": {},
   "outputs": [
    {
     "name": "stdout",
     "output_type": "stream",
     "text": [
      "              precision    recall  f1-score   support\n",
      "\n",
      "        Safe       0.90      0.88      0.89    111862\n",
      "      Unsafe       0.86      0.89      0.88     97675\n",
      "\n",
      "    accuracy                           0.88    209537\n",
      "   macro avg       0.88      0.88      0.88    209537\n",
      "weighted avg       0.88      0.88      0.88    209537\n",
      "\n",
      "1550.2382221221924\n"
     ]
    }
   ],
   "source": [
    "from sklearn.ensemble import RandomForestClassifier\n",
    "import time\n",
    "str_time=time.time()\n",
    "rf = RandomForestClassifier(n_estimators=999,max_features='sqrt')\n",
    "rf.fit(X_train,y_train)\n",
    "y_pred_rf = rf.predict(X_test)\n",
    "print(classification_report(y_test,y_pred_rf,target_names=['Safe','Unsafe']))\n",
    "print(time.time()-str_time)"
   ]
  },
  {
   "cell_type": "code",
   "execution_count": 89,
   "metadata": {},
   "outputs": [],
   "source": [
    "import sklearn.metrics as metrics"
   ]
  },
  {
   "cell_type": "code",
   "execution_count": 90,
   "metadata": {},
   "outputs": [
    {
     "name": "stdout",
     "output_type": "stream",
     "text": [
      "accuracy:   0.882\n"
     ]
    }
   ],
   "source": [
    "score = metrics.accuracy_score(y_test, y_pred_rf)\n",
    "print(\"accuracy:   %0.3f\" % score)"
   ]
  },
  {
   "cell_type": "code",
   "execution_count": 91,
   "metadata": {},
   "outputs": [
    {
     "data": {
      "image/png": "[encoded data removed]",
      "text/plain": [
       "<Figure size 800x600 with 2 Axes>"
      ]
     },
     "metadata": {},
     "output_type": "display_data"
    }
   ],
   "source": [
    "cm = confusion_matrix(y_test, y_pred_rf)\n",
    "cm_df = pd.DataFrame(cm,\n",
    "                     index = ['Safe','Unsafe'], \n",
    "                     columns = ['Safe','Unsafe'])\n",
    "plt.figure(figsize=(8,6))\n",
    "sns.heatmap(cm_df, annot=True,fmt=\".1f\")\n",
    "plt.title('Confusion Matrix')\n",
    "plt.ylabel('Actal Values')\n",
    "plt.xlabel('Predicted Values')\n",
    "plt.show()"
   ]
  },
  {
   "cell_type": "code",
   "execution_count": 92,
   "metadata": {},
   "outputs": [
    {
     "name": "stdout",
     "output_type": "stream",
     "text": [
      "[LightGBM] [Warning] Unknown parameter: silent\n",
      "[LightGBM] [Warning] Unknown parameter: silent\n",
      "[LightGBM] [Info] Number of positive: 390699, number of negative: 447446\n",
      "[LightGBM] [Info] Auto-choosing row-wise multi-threading, the overhead of testing was 0.070356 seconds.\n",
      "You can set `force_row_wise=true` to remove the overhead.\n",
      "And if memory is not enough, you can set `force_col_wise=true`.\n",
      "[LightGBM] [Info] Total Bins 1191\n",
      "[LightGBM] [Info] Number of data points in the train set: 838145, number of used features: 21\n",
      "[LightGBM] [Info] [binary:BoostFromScore]: pavg=0.466147 -> initscore=-0.135618\n",
      "[LightGBM] [Info] Start training from score -0.135618\n",
      "[LightGBM] [Warning] Unknown parameter: silent\n",
      "              precision    recall  f1-score   support\n",
      "\n",
      "        Safe       0.95      0.83      0.89    111862\n",
      "      Unsafe       0.83      0.95      0.89     97675\n",
      "\n",
      "    accuracy                           0.89    209537\n",
      "   macro avg       0.89      0.89      0.89    209537\n",
      "weighted avg       0.89      0.89      0.89    209537\n",
      "\n",
      "Accuracy: 0.886\n"
     ]
    }
   ],
   "source": [
    "lgb = LGBMClassifier(objective='binary', boosting_type='gbdt',n_estimators=999, n_jobs=5, silent=True, random_state=5)\n",
    "\n",
    "LGB_C = lgb.fit(X_train, y_train)\n",
    "\n",
    "y_pred_lgb = LGB_C.predict(X_test)\n",
    "print(classification_report(y_test, y_pred_lgb, target_names=['Safe', 'Unsafe']))\n",
    "\n",
    "score = accuracy_score(y_test, y_pred_lgb)\n",
    "print(f\"Accuracy: {score:.3f}\")"
   ]
  },
  {
   "cell_type": "code",
   "execution_count": 93,
   "metadata": {},
   "outputs": [
    {
     "data": {
      "image/png": "[encoded data removed]",
      "text/plain": [
       "<Figure size 800x600 with 2 Axes>"
      ]
     },
     "metadata": {},
     "output_type": "display_data"
    }
   ],
   "source": [
    "cm = confusion_matrix(y_test, y_pred_rf)\n",
    "cm_df = pd.DataFrame(cm,\n",
    "                     index = ['Safe','Unsafe'], \n",
    "                     columns = ['Safe','Unsafe'])\n",
    "plt.figure(figsize=(8,6))\n",
    "sns.heatmap(cm_df, annot=True,fmt=\".1f\")\n",
    "plt.title('Confusion Matrix')\n",
    "plt.ylabel('Actal Values')\n",
    "plt.xlabel('Predicted Values')\n",
    "plt.show()"
   ]
  },
  {
   "cell_type": "markdown",
   "metadata": {},
   "source": []
  },
  {
   "cell_type": "markdown",
   "metadata": {},
   "source": [
    "## 3. XGboost Classifier"
   ]
  },
  {
   "cell_type": "code",
   "execution_count": 94,
   "metadata": {},
   "outputs": [
    {
     "name": "stdout",
     "output_type": "stream",
     "text": [
      "              precision    recall  f1-score   support\n",
      "\n",
      "        Safe       0.94      0.83      0.88    111862\n",
      "      Unsafe       0.83      0.94      0.88     97675\n",
      "\n",
      "    accuracy                           0.88    209537\n",
      "   macro avg       0.88      0.88      0.88    209537\n",
      "weighted avg       0.89      0.88      0.88    209537\n",
      "\n",
      "accuracy:   0.880\n"
     ]
    }
   ],
   "source": [
    "xgb_c = xgb.XGBClassifier(n_estimators= 100)\n",
    "xgb_c.fit(X_train,y_train)\n",
    "y_pred_x = xgb_c.predict(X_test)\n",
    "print(classification_report(y_test,y_pred_x,target_names=['Safe','Unsafe']))\n",
    "\n",
    "\n",
    "score = metrics.accuracy_score(y_test, y_pred_x)\n",
    "print(\"accuracy:   %0.3f\" % score)"
   ]
  },
  {
   "cell_type": "code",
   "execution_count": 95,
   "metadata": {},
   "outputs": [
    {
     "data": {
      "image/png": "[encoded data removed]",
      "text/plain": [
       "<Figure size 800x600 with 2 Axes>"
      ]
     },
     "metadata": {},
     "output_type": "display_data"
    }
   ],
   "source": [
    "cm = confusion_matrix(y_test, y_pred_x)\n",
    "cm_df = pd.DataFrame(cm,index = ['Safe','Unsafe'], columns = ['Safe','Unsafe'])\n",
    "plt.figure(figsize=(8,6))\n",
    "sns.heatmap(cm_df, annot=True,fmt=\".1f\")\n",
    "plt.title('Confusion Matrix')\n",
    "plt.ylabel('Actal Values')\n",
    "plt.xlabel('Predicted Values')\n",
    "plt.show()"
   ]
  },
  {
   "cell_type": "markdown",
   "metadata": {},
   "source": [
    "## Prediction"
   ]
  },
  {
   "cell_type": "code",
   "execution_count": 96,
   "metadata": {},
   "outputs": [],
   "source": [
    "from sklearn.model_selection import train_test_split, GridSearchCV"
   ]
  },
  {
   "cell_type": "code",
   "execution_count": 97,
   "metadata": {},
   "outputs": [],
   "source": [
    "def main(url):\n",
    "    \n",
    "    status = []\n",
    "\n",
    "    status.append(having_ip_address(url))\n",
    "    status.append(abnormal_url(url))\n",
    "    status.append(count_dot(url))\n",
    "    status.append(count_www(url))\n",
    "    status.append(count_atrate(url))\n",
    "    status.append(no_of_dir(url))\n",
    "    status.append(no_of_embed(url))\n",
    "    \n",
    "    status.append(shortening_service(url))\n",
    "    status.append(count_https(url))\n",
    "    status.append(count_http(url))\n",
    "    \n",
    "    status.append(count_per(url))\n",
    "    status.append(count_ques(url))\n",
    "    status.append(count_hyphen(url))\n",
    "    status.append(count_equal(url))\n",
    "    \n",
    "    status.append(url_length(url))\n",
    "    status.append(hostname_length(url))\n",
    "    status.append(suspicious_words(url))\n",
    "    status.append(digit_count(url))\n",
    "    status.append(letter_count(url))\n",
    "    status.append(fd_length(url))\n",
    "    tld = get_tld(url,fail_silently=True)\n",
    "      \n",
    "    status.append(tld_length(tld))\n",
    "    \n",
    "    return status"
   ]
  },
  {
   "cell_type": "code",
   "execution_count": 103,
   "metadata": {},
   "outputs": [
    {
     "name": "stdout",
     "output_type": "stream",
     "text": [
      "[[ 0  1  2  1  0  0  0  0  1  1  0  0  0  0 22 14  0  0 17  0  3]]\n",
      "[LightGBM] [Warning] Unknown parameter: silent\n",
      "[1]\n",
      "1\n",
      "UNSafe\n"
     ]
    }
   ],
   "source": [
    "def get_prediction_from_url(test_url):\n",
    "    features_test = main(test_url)\n",
    "    # Due to updates to scikit-learn, we now need a 2D array as a parameter to the predict function.\n",
    "    features_test = np.array(features_test).reshape((1, -1))\n",
    "    \n",
    "    print(features_test)\n",
    "    pred = lgb.predict(features_test)\n",
    "    print(pred)\n",
    "    print(int(pred[0]))\n",
    "    if int(pred[0]) == 0:\n",
    "        res=\"SAFE\"\n",
    "        return res\n",
    "    elif int(pred[0])==1:\n",
    "        res=\"UNSafe\"\n",
    "        return res\n",
    "urls =['https://www.coffer.com']\n",
    "for url in urls:\n",
    "     print(get_prediction_from_url(url))"
   ]
  }
 ],
 "metadata": {
  "kernelspec": {
   "display_name": "Python 3 (ipykernel)",
   "language": "python",
   "name": "python3"
  },
  "language_info": {
   "codemirror_mode": {
    "name": "ipython",
    "version": 3
   },
   "file_extension": ".py",
   "mimetype": "text/x-python",
   "name": "python",
   "nbconvert_exporter": "python",
   "pygments_lexer": "ipython3",
   "version": "3.11.3"
  }
 },
 "nbformat": 4,
 "nbformat_minor": 4
}
